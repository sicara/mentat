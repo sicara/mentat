{
  "nbformat": 4,
  "nbformat_minor": 0,
  "metadata": {
    "colab": {
      "name": "tf-explain-mnist.ipynb",
      "provenance": [],
      "toc_visible": true
    },
    "kernelspec": {
      "name": "python3",
      "display_name": "Python 3"
    },
    "accelerator": "GPU"
  },
  "cells": [
    {
      "cell_type": "markdown",
      "metadata": {
        "id": "gFaYLBeNPT4R",
        "colab_type": "text"
      },
      "source": [
        "# tf-explain\n",
        "\n",
        "[![Pypi Version](https://img.shields.io/pypi/v/tf-explain.svg)](https://pypi.org/project/tf-explain/)\n",
        "[![Build Status](https://api.travis-ci.org/sicara/tf-explain.svg?branch=master)](https://travis-ci.org/sicara/tf-explain)\n",
        "[![Documentation Status](https://readthedocs.org/projects/tf-explain/badge/?version=latest)](https://tf-explain.readthedocs.io/en/latest/?badge=latest)\n",
        "![Python Versions](https://img.shields.io/badge/python-3.6%20|%203.7-%23EBBD68.svg)\n",
        "![Tensorflow Versions](https://img.shields.io/badge/tensorflow-2.0.0-blue.svg)\n",
        "[![Code style: black](https://img.shields.io/badge/code%20style-black-000000.svg)](https://github.com/python/black)\n",
        "\n",
        "__tf-explain__ implements interpretability methods as Tensorflow 2.0 callbacks to __ease neural network's understanding__.  \n",
        "See [Introducing tf-explain, Interpretability for Tensorflow 2.0](https://blog.sicara.com/tf-explain-interpretability-tensorflow-2-9438b5846e35)\n",
        "\n",
        "__Documentation__: https://tf-explain.readthedocs.io"
      ]
    },
    {
      "cell_type": "markdown",
      "metadata": {
        "id": "U3Yrxc7tP4Z-",
        "colab_type": "text"
      },
      "source": [
        "## tf-explain example over mnist/fashion-mnist"
      ]
    },
    {
      "cell_type": "code",
      "metadata": {
        "id": "h0OLyf2pMWm8",
        "colab_type": "code",
        "outputId": "3b556b1d-e044-41e9-e887-39509220b4d1",
        "colab": {
          "base_uri": "https://localhost:8080/",
          "height": 35
        }
      },
      "source": [
        "try:\n",
        "  # %tensorflow_version only exists in Colab.\n",
        "  %tensorflow_version 2.x\n",
        "except Exception:\n",
        "  pass\n",
        "import tensorflow as tf"
      ],
      "execution_count": 0,
      "outputs": [
        {
          "output_type": "stream",
          "text": [
            "TensorFlow 2.x selected.\n"
          ],
          "name": "stdout"
        }
      ]
    },
    {
      "cell_type": "code",
      "metadata": {
        "id": "lYAkOjobL1Xx",
        "colab_type": "code",
        "outputId": "8b482029-42a0-4e1e-cb14-b498a4858918",
        "colab": {
          "base_uri": "https://localhost:8080/",
          "height": 255
        }
      },
      "source": [
        "pip install tf-explain"
      ],
      "execution_count": 0,
      "outputs": [
        {
          "output_type": "stream",
          "text": [
            "Collecting tf-explain\n",
            "  Downloading https://files.pythonhosted.org/packages/1e/1e/556ec1e91b100de61941a7c91589ce29be1afdc53d52658d2045ba84a7ab/tf_explain-0.1.0-py3-none-any.whl\n",
            "Collecting opencv-python>=4.1.0.25 (from tf-explain)\n",
            "\u001b[?25l  Downloading https://files.pythonhosted.org/packages/5e/7e/bd5425f4dacb73367fddc71388a47c1ea570839197c2bcad86478e565186/opencv_python-4.1.1.26-cp36-cp36m-manylinux1_x86_64.whl (28.7MB)\n",
            "\u001b[K     |████████████████████████████████| 28.7MB 1.7MB/s \n",
            "\u001b[?25hRequirement already satisfied: numpy>=1.11.3 in /tensorflow-2.0.0-rc2/python3.6 (from opencv-python>=4.1.0.25->tf-explain) (1.17.2)\n",
            "\u001b[31mERROR: albumentations 0.1.12 has requirement imgaug<0.2.7,>=0.2.5, but you'll have imgaug 0.2.9 which is incompatible.\u001b[0m\n",
            "Installing collected packages: opencv-python, tf-explain\n",
            "  Found existing installation: opencv-python 3.4.7.28\n",
            "    Uninstalling opencv-python-3.4.7.28:\n",
            "      Successfully uninstalled opencv-python-3.4.7.28\n",
            "Successfully installed opencv-python-4.1.1.26 tf-explain-0.1.0\n"
          ],
          "name": "stdout"
        }
      ]
    },
    {
      "cell_type": "code",
      "metadata": {
        "id": "EozpISZ1L8vd",
        "colab_type": "code",
        "colab": {}
      },
      "source": [
        "import numpy as np\n",
        "import tf_explain"
      ],
      "execution_count": 0,
      "outputs": []
    },
    {
      "cell_type": "code",
      "metadata": {
        "id": "k1fnyKktNIs4",
        "colab_type": "code",
        "colab": {}
      },
      "source": [
        "AVAILABLE_DATASETS = {\n",
        "    'mnist': tf.keras.datasets.mnist,\n",
        "    'fashion_mnist': tf.keras.datasets.fashion_mnist,\n",
        "}"
      ],
      "execution_count": 0,
      "outputs": []
    },
    {
      "cell_type": "code",
      "metadata": {
        "id": "HDHeVwweM7EC",
        "colab_type": "code",
        "outputId": "7076b8d0-7657-4156-80da-0b78c1f2b970",
        "colab": {
          "base_uri": "https://localhost:8080/",
          "height": 35
        }
      },
      "source": [
        "#@CHOOSE A DATASET\n",
        "\n",
        "DATASET_NAME = 'mnist' #@param [\"fashion_mnist\", \"mnist\"]\n",
        "print(DATASET_NAME)"
      ],
      "execution_count": 0,
      "outputs": [
        {
          "output_type": "stream",
          "text": [
            "mnist\n"
          ],
          "name": "stdout"
        }
      ]
    },
    {
      "cell_type": "code",
      "metadata": {
        "id": "cH80JCZiMlTO",
        "colab_type": "code",
        "colab": {}
      },
      "source": [
        "INPUT_SHAPE = (28, 28, 1)\n",
        "NUM_CLASSES = 10"
      ],
      "execution_count": 0,
      "outputs": []
    },
    {
      "cell_type": "code",
      "metadata": {
        "id": "R2FcVG-yNhHa",
        "colab_type": "code",
        "outputId": "c8842bfa-1a89-402e-bea3-6636d03f6afd",
        "colab": {
          "base_uri": "https://localhost:8080/",
          "height": 54
        }
      },
      "source": [
        "# Load dataset\n",
        "dataset = AVAILABLE_DATASETS[DATASET_NAME]\n",
        "(train_images, train_labels), (test_images, test_labels) = dataset.load_data()\n",
        "\n",
        "# Convert from (28, 28) images to (28, 28, 1)\n",
        "train_images = train_images[..., tf.newaxis].astype('float32')\n",
        "test_images = test_images[..., tf.newaxis].astype('float32')\n",
        "\n",
        "# One hot encore labels 0, 1, .., 9 to [0, 0, .., 1, 0, 0]\n",
        "train_labels = tf.keras.utils.to_categorical(train_labels, num_classes=NUM_CLASSES)\n",
        "test_labels = tf.keras.utils.to_categorical(test_labels, num_classes=NUM_CLASSES)"
      ],
      "execution_count": 0,
      "outputs": [
        {
          "output_type": "stream",
          "text": [
            "Downloading data from https://storage.googleapis.com/tensorflow/tf-keras-datasets/mnist.npz\n",
            "11493376/11490434 [==============================] - 0s 0us/step\n"
          ],
          "name": "stdout"
        }
      ]
    },
    {
      "cell_type": "code",
      "metadata": {
        "id": "TogCHJ2qNxfX",
        "colab_type": "code",
        "colab": {}
      },
      "source": [
        "# Create model\n",
        "img_input = tf.keras.Input(INPUT_SHAPE)\n",
        "\n",
        "x = tf.keras.layers.Conv2D(filters=32, kernel_size=(3, 3), activation='relu')(img_input)\n",
        "x = tf.keras.layers.Conv2D(filters=64, kernel_size=(3, 3), activation='relu', name='target_layer')(x)\n",
        "x = tf.keras.layers.MaxPool2D(pool_size=(2, 2))(x)\n",
        "\n",
        "x = tf.keras.layers.Dropout(0.25)(x)\n",
        "x = tf.keras.layers.Flatten()(x)\n",
        "\n",
        "x = tf.keras.layers.Dense(128, activation='relu')(x)\n",
        "x = tf.keras.layers.Dropout(0.5)(x)\n",
        "\n",
        "x = tf.keras.layers.Dense(NUM_CLASSES, activation='softmax')(x)\n",
        "\n",
        "model = tf.keras.Model(img_input, x)"
      ],
      "execution_count": 0,
      "outputs": []
    },
    {
      "cell_type": "code",
      "metadata": {
        "id": "hSKSkyY4Nzjd",
        "colab_type": "code",
        "colab": {}
      },
      "source": [
        "model.compile(optimizer='adam', loss='categorical_crossentropy', metrics=['accuracy'])"
      ],
      "execution_count": 0,
      "outputs": []
    },
    {
      "cell_type": "code",
      "metadata": {
        "id": "ZhPmDKGCN5LO",
        "colab_type": "code",
        "colab": {}
      },
      "source": [
        "# Select a subset of the validation data to examine\n",
        "# Here, we choose 5 elements with one hot encoded label \"0\" == [1, 0, 0, .., 0]\n",
        "validation_class_zero = (np.array([\n",
        "    el for el, label in zip(test_images, test_labels)\n",
        "    if np.all(np.argmax(label) == 0)\n",
        "][0:5]), None)"
      ],
      "execution_count": 0,
      "outputs": []
    },
    {
      "cell_type": "code",
      "metadata": {
        "id": "R3dqe5uaN6bt",
        "colab_type": "code",
        "colab": {}
      },
      "source": [
        "# Select a subset of the validation data to examine\n",
        "# Here, we choose 5 elements with one hot encoded label \"4\" == [0, 0, 0, 0, 1, 0, 0, 0, 0, 0]\n",
        "validation_class_fours = (np.array([\n",
        "    el for el, label in zip(test_images, test_labels)\n",
        "    if np.all(np.argmax(label) == 4)\n",
        "][0:5]), None)"
      ],
      "execution_count": 0,
      "outputs": []
    },
    {
      "cell_type": "code",
      "metadata": {
        "id": "x5ZCysCvOBw1",
        "colab_type": "code",
        "colab": {}
      },
      "source": [
        "# Instantiate callbacks\n",
        "# class_index value should match the validation_data selected above\n",
        "callbacks = [\n",
        "    tf_explain.callbacks.GradCAMCallback(validation_class_zero, 'target_layer', class_index=0),\n",
        "    tf_explain.callbacks.GradCAMCallback(validation_class_fours, 'target_layer', class_index=4),\n",
        "    tf_explain.callbacks.ActivationsVisualizationCallback(validation_class_zero, layers_name=['target_layer']),\n",
        "    tf_explain.callbacks.SmoothGradCallback(validation_class_zero, class_index=0, num_samples=15, noise=1.),\n",
        "    tf_explain.callbacks.IntegratedGradientsCallback(validation_class_zero, class_index=0, n_steps=10),\n",
        "    tf_explain.callbacks.VanillaGradientsCallback(validation_class_zero, class_index=0),\n",
        "]"
      ],
      "execution_count": 0,
      "outputs": []
    },
    {
      "cell_type": "code",
      "metadata": {
        "id": "w1yXsgeOQR1O",
        "colab_type": "code",
        "colab": {}
      },
      "source": [
        "%load_ext tensorboard\n",
        "%tensorboard --logdir logs"
      ],
      "execution_count": 0,
      "outputs": []
    },
    {
      "cell_type": "code",
      "metadata": {
        "id": "_-4kcky6OOnc",
        "colab_type": "code",
        "outputId": "1b9e0f26-d08b-466a-93ef-dc834227af53",
        "colab": {
          "base_uri": "https://localhost:8080/",
          "height": 217
        }
      },
      "source": [
        "# Start training\n",
        "model.fit(train_images, train_labels, epochs=5, callbacks=callbacks)"
      ],
      "execution_count": 0,
      "outputs": [
        {
          "output_type": "stream",
          "text": [
            "Train on 60000 samples\n",
            "Epoch 1/5\n",
            "60000/60000 [==============================] - 25s 423us/sample - loss: 0.4870 - accuracy: 0.9031\n",
            "Epoch 2/5\n",
            "60000/60000 [==============================] - 18s 303us/sample - loss: 0.1525 - accuracy: 0.9564\n",
            "Epoch 3/5\n",
            "60000/60000 [==============================] - 17s 288us/sample - loss: 0.1132 - accuracy: 0.9669\n",
            "Epoch 4/5\n",
            "60000/60000 [==============================] - 17s 287us/sample - loss: 0.1000 - accuracy: 0.9716\n",
            "Epoch 5/5\n",
            "54752/60000 [==========================>...] - ETA: 1s - loss: 0.0885 - accuracy: 0.9746"
          ],
          "name": "stdout"
        }
      ]
    }
  ]
}
